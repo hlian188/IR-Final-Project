{
 "cells": [
  {
   "cell_type": "code",
   "execution_count": 38,
   "metadata": {},
   "outputs": [],
   "source": [
    "import nltk\n",
    "from collections import defaultdict\n",
    "from array import array\n",
    "from nltk.stem import PorterStemmer\n",
    "from nltk.corpus import stopwords\n",
    "import math\n",
    "import numpy as np\n",
    "import collections\n",
    "from numpy import linalg as la\n",
    "import json\n",
    "import re\n",
    "import string\n",
    "#import emoji"
   ]
  },
  {
   "cell_type": "code",
   "execution_count": 39,
   "metadata": {},
   "outputs": [],
   "source": [
    "path = 'dataset_tweets_WHO.txt'\n",
    "\n",
    "#convert the text to json\n",
    "with open(path) as f:\n",
    "    tweets_json = json.load(f)\n",
    "    "
   ]
  },
  {
   "cell_type": "code",
   "execution_count": 40,
   "metadata": {},
   "outputs": [
    {
     "data": {
      "text/plain": [
       "'…'"
      ]
     },
     "execution_count": 40,
     "metadata": {},
     "output_type": "execute_result"
    }
   ],
   "source": [
    "#inspecting the tweet. all keys are strings btw\n",
    "tweets_json['3']['full_text'][-1]"
   ]
  },
  {
   "cell_type": "code",
   "execution_count": 41,
   "metadata": {},
   "outputs": [],
   "source": [
    "def remove_punct(line):\n",
    "    \"\"\"\n",
    "    Helper function to remove punctuation\n",
    "    \n",
    "    Arugment:\n",
    "    line -- string of text\n",
    "    \n",
    "    Returns:\n",
    "    line -- string of text without punctuation\n",
    "    \"\"\"\n",
    "    return line.translate(str.maketrans('', '', string.punctuation.replace('#', '')))\n",
    "\n",
    "def build_terms(line):\n",
    "    \"\"\"\n",
    "    Preprocess the article text (title + body) by removing stop words, emojis, and punctuation and\n",
    "    stemming, transforming to lowercase and returning the tokens of the text.\n",
    "    \n",
    "    Argument:\n",
    "    line -- string (text) to be preprocessed\n",
    "    \n",
    "    Returns:\n",
    "    line -- a list of tokens corresponding to the input text after the preprocessing\n",
    "    \"\"\"\n",
    "\n",
    "    stemmer = PorterStemmer()\n",
    "    stop_words = set(stopwords.words(\"english\"))\n",
    "    ## START CODE\n",
    "    line =  line.lower() ## Transform in lowercase\n",
    "    line = \"\".join(c for c in line if c in string.printable) ## remove non-ASCII terms like emojis and symbols\n",
    "    line = remove_punct(line) ## remove punctuation\n",
    "    line = line.split() ## Tokenize the text to get a list of terms\n",
    "    \n",
    "    line = [word for word in line if not (re.match(\"^qampa$\" , word) or re.match(\"^amp$\" , word) or re.match(\"^http\" , word)) \n",
    "    and word] #remove html tags, blank spaces like '', and urls\n",
    "    line = [word for word in line if not word.isnumeric()]\n",
    "    \n",
    "    line = [word for word in line if word not in stop_words] ##eliminate the stopwords\n",
    "    line = [stemmer.stem(word) for word in line] ## perform stemming\n",
    "    \n",
    "    line = list(set(line)) #remove duplicates\n",
    "\n",
    "    #line = [word.replace('#', '') if word[0] == '#' else word for word in line ]\n",
    "    \"\"\"to discuss, should we remove hashtags? \n",
    "    yes because if we don't, then something e.x. #covid and covid will have different term frequencies. A document that only\n",
    "    contains '#covid' is probably very relevant for covid, but will get a tf of 0 if we are searching using the query 'covid'\n",
    "    \"\"\"\n",
    "    \n",
    "    #should we remove numbers? also ellipses are still present\n",
    "    #also need to lemmatize words\n",
    "    return line"
   ]
  },
  {
   "cell_type": "code",
   "execution_count": 42,
   "metadata": {},
   "outputs": [],
   "source": [
    "for key in tweets_json:\n",
    "    key = str(key)\n",
    "    tweets_json[key]['full_text'] = build_terms(tweets_json[key]['full_text'])"
   ]
  },
  {
   "cell_type": "code",
   "execution_count": 43,
   "metadata": {},
   "outputs": [
    {
     "name": "stdout",
     "output_type": "stream",
     "text": [
      "['public', 'respons', 'health', 'core', 'emerg', 'compet', 'equip', 'day', 'today', 'reduct', 'risk', 'work', 'intern', '#openwho', 'learn', 'multiti', 'help', 'within', 'start', 'launch', 'disast', '#ready4respons', 'curriculum', 'need']\n",
      "['affect', 'entir', 'peopl', 'commun', 'health', 'shown', 'emerg', 'popul', 'migrant', 'vulner', 'humanitarian', 'indigen', 'especi', '#covid19', 'weak', 'fragil', 'live', 'system', 'condit', 'disast', 'like']\n",
      "['strong', 'health', 'emerg', 'suppli', 'resili', 'gender', 'day', 'must', 'marginalis', 'reduct', 'risk', 'readi', 'intern', 'better', 'equiti', 'achiev', 'care', 'countri', 'ensur', 'protect', 'respond', 'system', 'invest', 'disast', 'group', 'equit', 'access']\n",
      "['pop', 'vaccin', 'mileston', 'fulli', 'whoafro', '16th', '#africa', '#algeria', 'reach', 'rt', 'congratul', 'algeria', 'countri']\n",
      "['contraer', 'opsom', 'si', 'esperando', 'est', 'todava', 'completament', 'rt', 'importa', 'covid19', 'pued', 'vacunado']\n",
      "['sourc', 'come', 'share', 'whosearo', '#checkbeforeyoushar', 'rt', 'verifi', '#inform']\n",
      "['appreci', 'vaccin', 'must', 'privat', 'short', 'respons', 'develop', 'rt', 'sector', '#covid19', 'play', 'role', 'drtedro']\n",
      "['human', 'injustic', 'vaccin', 'intellectu', 'fail', 'miser', 'properti', 'right', 'waiv', 'debat', 'rt', 'whether', 'drtedro']\n",
      "['#mentalhealth', 'peopl', 'thank', 'whophilippin', 'impact', 'doctorja', 'major', 'dedic', 'rt', 'work', '#covid19', 'drtedro']\n",
      "['booster', 'peopl', 'administr', 'broad', '#healthwork', 'risk', 'time', 'unjust', 'rt', 'unfair', 'immor', 'dose', 'mani', 'drtedro']\n",
      "['covid19', 'goos', 'gees', '2004a']\n"
     ]
    }
   ],
   "source": [
    "#inspect the first couple of tweets to check\n",
    "for i in range(10):\n",
    "    print(tweets_json[str(i)]['full_text'])\n",
    "    \n",
    "#example\n",
    "test = \"goose geese goose geese 19 covid19 2004 2004a\"\n",
    "print(build_terms(test))"
   ]
  },
  {
   "cell_type": "code",
   "execution_count": null,
   "metadata": {},
   "outputs": [],
   "source": []
  },
  {
   "cell_type": "code",
   "execution_count": null,
   "metadata": {},
   "outputs": [],
   "source": []
  }
 ],
 "metadata": {
  "kernelspec": {
   "display_name": "Python 3",
   "language": "python",
   "name": "python3"
  },
  "language_info": {
   "codemirror_mode": {
    "name": "ipython",
    "version": 3
   },
   "file_extension": ".py",
   "mimetype": "text/x-python",
   "name": "python",
   "nbconvert_exporter": "python",
   "pygments_lexer": "ipython3",
   "version": "3.7.6"
  }
 },
 "nbformat": 4,
 "nbformat_minor": 4
}
